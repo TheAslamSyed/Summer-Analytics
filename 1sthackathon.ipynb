{
  "nbformat": 4,
  "nbformat_minor": 0,
  "metadata": {
    "colab": {
      "provenance": []
    },
    "kernelspec": {
      "name": "python3",
      "display_name": "Python 3"
    },
    "language_info": {
      "name": "python"
    }
  },
  "cells": [
    {
      "cell_type": "code",
      "source": [
        "import pandas as pd\n",
        "from sklearn.linear_model import LogisticRegression\n",
        "from sklearn.impute import SimpleImputer\n",
        "from sklearn.preprocessing import StandardScaler\n",
        "\n",
        "# Load training and test data\n",
        "train_df = pd.read_csv('hacktrain.csv')\n",
        "test_df = pd.read_csv('hacktest.csv')\n",
        "\n",
        "# Separate features and target from training data\n",
        "X_train = train_df.drop(columns=['ID', 'class'])\n",
        "y_train = train_df['class']\n",
        "\n",
        "# Prepare test data features\n",
        "X_test = test_df.drop(columns=['ID'])\n",
        "test_ids = test_df['ID']\n",
        "\n",
        "# Step 1: Impute missing values\n",
        "imputer = SimpleImputer(strategy='mean')\n",
        "X_train_imputed = imputer.fit_transform(X_train)\n",
        "X_test_imputed = imputer.transform(X_test)\n",
        "\n",
        "# Step 2: Feature Scaling\n",
        "scaler = StandardScaler()\n",
        "X_train_scaled = scaler.fit_transform(X_train_imputed)\n",
        "X_test_scaled = scaler.transform(X_test_imputed)\n",
        "\n",
        "# Step 3: Train Logistic Regression model\n",
        "model = LogisticRegression(multi_class='multinomial', solver='lbfgs', max_iter=1000, random_state=42)\n",
        "model.fit(X_train_scaled, y_train)\n",
        "\n",
        "# Step 4: Predict on test set\n",
        "y_pred = model.predict(X_test_scaled)\n",
        "\n",
        "# Step 5: Create submission DataFrame\n",
        "submission_df = pd.DataFrame({\n",
        "    'ID': test_ids,\n",
        "    'class': y_pred\n",
        "})\n",
        "\n",
        "# Save submission file\n",
        "submission_path = 'ndvi_logreg_submission_final.csv'\n",
        "submission_df.to_csv(submission_path, index=False)\n",
        "\n",
        "submission_path\n"
      ],
      "metadata": {
        "colab": {
          "base_uri": "https://localhost:8080/",
          "height": 90
        },
        "id": "bMrLInaFYHsy",
        "outputId": "9ffc77a2-a51e-41ad-d25e-90dde92672c9"
      },
      "execution_count": 2,
      "outputs": [
        {
          "output_type": "stream",
          "name": "stderr",
          "text": [
            "/usr/local/lib/python3.11/dist-packages/sklearn/linear_model/_logistic.py:1247: FutureWarning: 'multi_class' was deprecated in version 1.5 and will be removed in 1.7. From then on, it will always use 'multinomial'. Leave it to its default value to avoid this warning.\n",
            "  warnings.warn(\n"
          ]
        },
        {
          "output_type": "execute_result",
          "data": {
            "text/plain": [
              "'ndvi_logreg_submission_final.csv'"
            ],
            "application/vnd.google.colaboratory.intrinsic+json": {
              "type": "string"
            }
          },
          "metadata": {},
          "execution_count": 2
        }
      ]
    }
  ]
}